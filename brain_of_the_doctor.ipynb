{
 "cells": [
  {
   "cell_type": "code",
   "execution_count": 5,
   "id": "589f90ec",
   "metadata": {},
   "outputs": [],
   "source": [
    "#phas 1\n",
    "#step 1:setup groq api key \n",
    "import os\n",
    "\n",
    "GROQ_API_KEY=os.environ.get(\"GROQ_API_KEY\")"
   ]
  },
  {
   "cell_type": "code",
   "execution_count": 8,
   "id": "e4f7b875",
   "metadata": {},
   "outputs": [],
   "source": [
    "#step2:convert image to text\n",
    "import base64\n",
    "\n",
    "image_path=\"acne.jpg\"\n",
    "image_file=open(image_path,\"rb\")\n",
    "encoded_image=base64.b64encode(image_file.read()).decode('utf-8')\n"
   ]
  },
  {
   "cell_type": "code",
   "execution_count": null,
   "id": "d21c7741",
   "metadata": {},
   "outputs": [
    {
     "name": "stdout",
     "output_type": "stream",
     "text": [
      "The individual's face appears to have several red blemishes and pimples, which could be indicative of acne.\n",
      "\n",
      "Some possible causes of acne include:\n",
      "\n",
      "* Hormonal fluctuations\n",
      "* Genetics\n",
      "* Stress\n",
      "* Poor skincare routine\n",
      "* Diet\n",
      "\n",
      "It may help to consult a dermatologist for personalized advice on managing acne.\n"
     ]
    }
   ],
   "source": [
    "#setup multimodel llm \n",
    "from groq import Groq\n",
    "\n",
    "\n",
    "client = Groq()#calling\n",
    "model = \"meta-llama/llama-4-scout-17b-16e-instruct\"\n",
    "query=\"is there something wrong with my face\"\n",
    "messages=[\n",
    "        {\n",
    "            \"role\": \"user\",\n",
    "            \"content\": [\n",
    "                {\n",
    "                    \"type\": \"text\", #message ka type \n",
    "                    \"text\": query   #message kis chij m store h\n",
    "                },\n",
    "                {\n",
    "                    \"type\": \"image_url\",#do input jayegi image and tet to ye text h\n",
    "                    \"image_url\": {\n",
    "                        \"url\": f\"data:image/jpeg;base64,{encoded_image}\",#ye how kr rhs image base64 m encoded h aur image encoded image m store h\n",
    "                    },\n",
    "                },\n",
    "            ],\n",
    "        }]\n",
    "chat_completition=client.chat.completions.create(#request send kr rha chat ka to api\n",
    "    messages=messages,#kya message bhejna h\n",
    "    model=model#kon sa model use hua\n",
    ")\n",
    "\n",
    "print(chat_completition.choices[0].message.content)"
   ]
  }
 ],
 "metadata": {
  "kernelspec": {
   "display_name": "myenv",
   "language": "python",
   "name": "python3"
  },
  "language_info": {
   "codemirror_mode": {
    "name": "ipython",
    "version": 3
   },
   "file_extension": ".py",
   "mimetype": "text/x-python",
   "name": "python",
   "nbconvert_exporter": "python",
   "pygments_lexer": "ipython3",
   "version": "3.10.16"
  }
 },
 "nbformat": 4,
 "nbformat_minor": 5
}
